{
 "cells": [
  {
   "cell_type": "code",
   "execution_count": 1,
   "id": "f589ee10",
   "metadata": {},
   "outputs": [],
   "source": [
    "import socket"
   ]
  },
  {
   "cell_type": "code",
   "execution_count": 5,
   "id": "19639591",
   "metadata": {},
   "outputs": [
    {
     "name": "stdout",
     "output_type": "stream",
     "text": [
      "Connection From  ('127.0.0.1', 63612) Has Done\n"
     ]
    },
    {
     "data": {
      "text/plain": [
       "11"
      ]
     },
     "execution_count": 5,
     "metadata": {},
     "output_type": "execute_result"
    }
   ],
   "source": [
    "\n",
    "table={\n",
    "    '192.168.1.1':'1E.4A.4A.11',\n",
    "    '192.168.2.1':'5E.51.4B.01',\n",
    "    '1E.4A.4A.11':'192.168.1.1',\n",
    "    '5E.51.4B.01' :'192.168.2.1'\n",
    "}\n",
    "s = socket.socket(socket.AF_INET,socket.SOCK_STREAM)\n",
    "s.bind(('',1234))\n",
    "s.listen()\n",
    "clientsocket, address=s.accept()\n",
    "print(\"Connection From \",address,\"Has Done\")\n",
    "ip=clientsocket.recv(1024)\n",
    "ip=ip.decode(\"utf-8\")\n",
    "mac=table.get(ip ,\"No Entry\")\n",
    "clientsocket.send(mac.encode())\n",
    "          "
   ]
  },
  {
   "cell_type": "code",
   "execution_count": null,
   "id": "248f2b66",
   "metadata": {},
   "outputs": [],
   "source": []
  },
  {
   "cell_type": "code",
   "execution_count": null,
   "id": "a6b29bf7",
   "metadata": {},
   "outputs": [],
   "source": []
  }
 ],
 "metadata": {
  "kernelspec": {
   "display_name": "Python 3 (ipykernel)",
   "language": "python",
   "name": "python3"
  },
  "language_info": {
   "codemirror_mode": {
    "name": "ipython",
    "version": 3
   },
   "file_extension": ".py",
   "mimetype": "text/x-python",
   "name": "python",
   "nbconvert_exporter": "python",
   "pygments_lexer": "ipython3",
   "version": "3.9.12"
  }
 },
 "nbformat": 4,
 "nbformat_minor": 5
}
