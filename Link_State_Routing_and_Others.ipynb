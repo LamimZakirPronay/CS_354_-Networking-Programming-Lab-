{
  "cells": [
    {
      "cell_type": "code",
      "execution_count": null,
      "id": "eb086d70",
      "metadata": {
        "id": "eb086d70",
        "outputId": "90fbfe52-0ac7-4214-aa41-d62e39bb10b3"
      },
      "outputs": [
        {
          "name": "stdout",
          "output_type": "stream",
          "text": [
            "Routing table:\n",
            "Node A:\n",
            "  B -> 1 via B\n",
            "  C -> 3 via B\n",
            "  D -> 4 via B\n",
            "Node B:\n",
            "  A -> 1 via A\n",
            "  C -> 2 via C\n",
            "  D -> 3 via C\n",
            "Node C:\n",
            "  A -> 3 via B\n",
            "  B -> 2 via B\n",
            "  D -> 1 via D\n",
            "Node D:\n",
            "  A -> 4 via C\n",
            "  B -> 3 via C\n",
            "  C -> 1 via C\n"
          ]
        }
      ],
      "source": [
        "import heapq\n",
        "\n",
        "class LinkStateRouting:\n",
        "    def __init__(self, nodes, graph):\n",
        "        self.nodes = nodes\n",
        "        self.graph = graph\n",
        "        self.adjacency_list = {node: graph[node] for node in nodes}\n",
        "        self.routing_table = {node: {} for node in nodes}\n",
        "        self.shortest_paths = {}\n",
        "\n",
        "    def dijkstra(self, source):\n",
        "        pq = [(0, source)]\n",
        "        visited = set()\n",
        "        distances = {node: float('inf') for node in self.nodes}\n",
        "        distances[source] = 0\n",
        "\n",
        "        while pq:\n",
        "            (dist, node) = heapq.heappop(pq)\n",
        "            if node in visited:\n",
        "                continue\n",
        "            visited.add(node)\n",
        "\n",
        "            for neighbor, cost in self.adjacency_list[node].items():\n",
        "                new_dist = distances[node] + cost\n",
        "                if new_dist < distances[neighbor]:\n",
        "                    distances[neighbor] = new_dist\n",
        "                    heapq.heappush(pq, (new_dist, neighbor))\n",
        "                    self.shortest_paths[neighbor] = self.shortest_paths.get(node, []) + [neighbor]\n",
        "\n",
        "        return distances\n",
        "\n",
        "    def update_routing_table(self):\n",
        "        for node in self.nodes:\n",
        "            self.shortest_paths = {node: [node]}\n",
        "            distances = self.dijkstra(node)\n",
        "            for dest_node, cost in distances.items():\n",
        "                if dest_node != node:\n",
        "                    self.routing_table[node][dest_node] = (cost, self.shortest_paths[dest_node][1])\n",
        "\n",
        "    def print_routing_table(self):\n",
        "        print(\"Routing table:\")\n",
        "        for node in self.nodes:\n",
        "            print(f\"Node {node}:\")\n",
        "            for dest_node, (cost, next_hop) in self.routing_table[node].items():\n",
        "                print(f\"  {dest_node} -> {cost} via {next_hop}\")\n",
        "\n",
        "# Example usage\n",
        "nodes = ['A', 'B', 'C', 'D']\n",
        "graph = {\n",
        "    'A': {'B': 1, 'C': 4},\n",
        "    'B': {'A': 1, 'C': 2, 'D': 5},\n",
        "    'C': {'A': 4, 'B': 2, 'D': 1},\n",
        "    'D': {'B': 5, 'C': 1},\n",
        "}\n",
        "lsr = LinkStateRouting(nodes, graph)\n",
        "lsr.update_routing_table()\n",
        "lsr.print_routing_table()\n"
      ]
    },
    {
      "cell_type": "code",
      "execution_count": null,
      "id": "335c1d5d",
      "metadata": {
        "id": "335c1d5d",
        "outputId": "355f23da-1955-4bf7-f80e-18536768cf04"
      },
      "outputs": [
        {
          "name": "stdout",
          "output_type": "stream",
          "text": [
            "Routing table:\n",
            "Node A:\n",
            "  B -> 1 via B\n",
            "  C -> 3 via B\n",
            "Node B:\n",
            "  A -> 1 via A\n",
            "  C -> 2 via C\n",
            "  D -> 3 via C\n",
            "Node C:\n",
            "  A -> 3 via B\n",
            "  B -> 2 via B\n",
            "  D -> 1 via D\n",
            "Node D:\n",
            "  B -> 3 via C\n",
            "  C -> 1 via C\n"
          ]
        }
      ],
      "source": [
        "class DistanceVectorRouting:\n",
        "    def __init__(self, nodes, graph):\n",
        "        self.nodes = nodes\n",
        "        self.graph = graph\n",
        "        self.routing_table = {node: {dest_node: (cost, dest_node) for dest_node, cost in graph[node].items()} for node in nodes}\n",
        "        self.neighbor_costs = {node: {neighbor: cost for neighbor, cost in graph[node].items()} for node in nodes}\n",
        "        self.changed = True\n",
        "\n",
        "    def update_routing_table(self):\n",
        "        while self.changed:\n",
        "            self.changed = False\n",
        "            for node in self.nodes:\n",
        "                for dest_node in self.graph[node]:\n",
        "                    if dest_node == node:\n",
        "                        continue\n",
        "                    min_cost, next_hop = self.routing_table[node][dest_node]\n",
        "                    for neighbor, cost in self.neighbor_costs[node].items():\n",
        "                        if dest_node not in self.routing_table[neighbor]:\n",
        "                            continue\n",
        "                        new_cost = cost + self.routing_table[neighbor][dest_node][0]\n",
        "                        if new_cost < min_cost:\n",
        "                            min_cost, next_hop = new_cost, neighbor\n",
        "                    if (min_cost, next_hop) != self.routing_table[node][dest_node]:\n",
        "                        self.routing_table[node][dest_node] = (min_cost, next_hop)\n",
        "                        self.changed = True\n",
        "\n",
        "    def print_routing_table(self):\n",
        "        print(\"Routing table:\")\n",
        "        for node in self.nodes:\n",
        "            print(f\"Node {node}:\")\n",
        "            for dest_node, (cost, next_hop) in self.routing_table[node].items():\n",
        "                print(f\"  {dest_node} -> {cost} via {next_hop}\")\n",
        "\n",
        "# Example usage\n",
        "nodes = ['A', 'B', 'C', 'D']\n",
        "graph = {\n",
        "    'A': {'B': 1, 'C': 4},\n",
        "    'B': {'A': 1, 'C': 2, 'D': 5},\n",
        "    'C': {'A': 4, 'B': 2, 'D': 1},\n",
        "    'D': {'B': 5, 'C': 1},\n",
        "}\n",
        "dvr = DistanceVectorRouting(nodes, graph)\n",
        "dvr.update_routing_table()\n",
        "dvr.print_routing_table()\n"
      ]
    },
    {
      "cell_type": "code",
      "execution_count": null,
      "id": "7b5d48a7",
      "metadata": {
        "id": "7b5d48a7"
      },
      "outputs": [],
      "source": []
    }
  ],
  "metadata": {
    "kernelspec": {
      "display_name": "Python 3 (ipykernel)",
      "language": "python",
      "name": "python3"
    },
    "language_info": {
      "codemirror_mode": {
        "name": "ipython",
        "version": 3
      },
      "file_extension": ".py",
      "mimetype": "text/x-python",
      "name": "python",
      "nbconvert_exporter": "python",
      "pygments_lexer": "ipython3",
      "version": "3.9.12"
    },
    "colab": {
      "provenance": []
    }
  },
  "nbformat": 4,
  "nbformat_minor": 5
}