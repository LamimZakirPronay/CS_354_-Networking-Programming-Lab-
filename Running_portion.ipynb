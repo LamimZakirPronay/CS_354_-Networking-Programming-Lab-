{
 "cells": [
  {
   "cell_type": "code",
   "execution_count": 2,
   "id": "b94c0453",
   "metadata": {},
   "outputs": [
    {
     "name": "stdout",
     "output_type": "stream",
     "text": [
      "5E.51.4B.01\n",
      "192.168.2.1\n"
     ]
    }
   ],
   "source": [
    "import socket\n",
    "\n",
    "\n",
    "s = socket.socket(socket.AF_INET,socket.SOCK_STREAM)\n",
    "s.connect(('localhost',1234))\n",
    "add=input()\n",
    "\n",
    "s.send(add.encode())\n",
    "mac=s.recv(1024)\n",
    "mac=mac.decode(\"utf-8\")\n",
    "print(mac)\n"
   ]
  },
  {
   "cell_type": "code",
   "execution_count": null,
   "id": "c9b17a0e",
   "metadata": {},
   "outputs": [],
   "source": []
  }
 ],
 "metadata": {
  "kernelspec": {
   "display_name": "Python 3 (ipykernel)",
   "language": "python",
   "name": "python3"
  },
  "language_info": {
   "codemirror_mode": {
    "name": "ipython",
    "version": 3
   },
   "file_extension": ".py",
   "mimetype": "text/x-python",
   "name": "python",
   "nbconvert_exporter": "python",
   "pygments_lexer": "ipython3",
   "version": "3.9.12"
  }
 },
 "nbformat": 4,
 "nbformat_minor": 5
}
